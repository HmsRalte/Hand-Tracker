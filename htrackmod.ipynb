{
 "cells": [
  {
   "cell_type": "code",
   "execution_count": null,
   "metadata": {},
   "outputs": [],
   "source": [
    "pip install opencv\n"
   ]
  },
  {
   "cell_type": "code",
   "execution_count": null,
   "metadata": {},
   "outputs": [],
   "source": [
    "pip install mediapipe"
   ]
  },
  {
   "cell_type": "code",
   "execution_count": null,
   "metadata": {},
   "outputs": [],
   "source": [
    "pip install times\n"
   ]
  },
  {
   "cell_type": "code",
   "execution_count": 1,
   "metadata": {},
   "outputs": [],
   "source": [
    "import mediapipe as mp\n",
    "import time\n",
    "import cv2"
   ]
  },
  {
   "cell_type": "code",
   "execution_count": 2,
   "metadata": {},
   "outputs": [],
   "source": [
    "import cv2\n",
    "import mediapipe as mp\n",
    "\n",
    "class handDetector:\n",
    "    def __init__(self, mode=False, maxHands=2, detectionCon=0.5, trackCon=0.5, model_complexity=1):\n",
    "        self.mode = mode\n",
    "        self.maxHands = maxHands\n",
    "        self.detectionCon = detectionCon\n",
    "        self.trackCon = trackCon\n",
    "        self.model_complexity = model_complexity\n",
    "        self.mp_hands = mp.solutions.hands.Hands(\n",
    "            self.mode, self.maxHands,\n",
    "            model_complexity=self.model_complexity,\n",
    "            min_detection_confidence=self.detectionCon,\n",
    "            min_tracking_confidence=self.trackCon\n",
    "        )\n",
    "        self.mp_drawing = mp.solutions.drawing_utils\n",
    "        self.results = None\n",
    "\n",
    "    def findHands(self, image, draw=True):\n",
    "        imageRGB = cv2.cvtColor(image, cv2.COLOR_BGR2RGB)\n",
    "        self.results = self.mp_hands.process(imageRGB)\n",
    "        if self.results.multi_hand_landmarks and draw:\n",
    "            for handLms in self.results.multi_hand_landmarks:\n",
    "                self.mp_drawing.draw_landmarks(image, handLms, mp.solutions.hands.HAND_CONNECTIONS)\n",
    "        return image\n",
    "\n",
    "    def findPos(self, image, handNumber=0, draw=True):\n",
    "        lmList = []\n",
    "        if self.results.multi_hand_landmarks:\n",
    "            myHand = self.results.multi_hand_landmarks[handNumber]\n",
    "            for id, lm in enumerate(myHand.landmark):\n",
    "                h, w, c = image.shape\n",
    "                cx, cy = int(lm.x * w), int(lm.y * h)\n",
    "                lmList.append([id, cx, cy])\n",
    "                if draw:\n",
    "                    cv2.circle(image, (cx, cy), 15, (255, 0, 255), cv2.FILLED)\n",
    "        return lmList\n"
   ]
  },
  {
   "cell_type": "code",
   "execution_count": null,
   "metadata": {},
   "outputs": [],
   "source": [
    "def main():\n",
    "    pTime = 0\n",
    "    cTime = 0\n",
    "    cap = cv2.VideoCapture(0)\n",
    "    detector = handDetector()\n",
    "    while True:\n",
    "        success, image = cap.read()\n",
    "        image = detector.findHands(image)\n",
    "        cTime = time.time()\n",
    "        fps = 1 / (cTime - pTime)\n",
    "        pTime = cTime\n",
    "        image = cv2.flip(image, 1)\n",
    "        cv2.putText(\n",
    "            image,\n",
    "            str(int(fps)),\n",
    "            (500,400),\n",
    "        cv2.FONT_HERSHEY_PLAIN,\n",
    "        3,\n",
    "        (120, 52, 40),\n",
    "        3,\n",
    "        )\n",
    "        cv2.imshow(\"Camera result\", image)\n",
    "        landmarks = detector.findPos(image)\n",
    "        if len(landmarks) != 0:\n",
    "            print(landmarks[4])\n",
    "        cv2.waitKey(1)\n",
    "        \n",
    "if __name__ == \"__main__\":\n",
    "    main()"
   ]
  }
 ],
 "metadata": {
  "kernelspec": {
   "display_name": "Python 3",
   "language": "python",
   "name": "python3"
  },
  "language_info": {
   "codemirror_mode": {
    "name": "ipython",
    "version": 3
   },
   "file_extension": ".py",
   "mimetype": "text/x-python",
   "name": "python",
   "nbconvert_exporter": "python",
   "pygments_lexer": "ipython3",
   "version": "3.10.13"
  }
 },
 "nbformat": 4,
 "nbformat_minor": 2
}
